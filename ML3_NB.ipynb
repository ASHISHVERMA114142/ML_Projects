{
  "nbformat": 4,
  "nbformat_minor": 0,
  "metadata": {
    "colab": {
      "provenance": [],
      "include_colab_link": true
    },
    "kernelspec": {
      "name": "python3",
      "display_name": "Python 3"
    },
    "language_info": {
      "name": "python"
    }
  },
  "cells": [
    {
      "cell_type": "markdown",
      "metadata": {
        "id": "view-in-github",
        "colab_type": "text"
      },
      "source": [
        "<a href=\"https://colab.research.google.com/github/ASHISHVERMA114142/ML_Projects/blob/main/ML3_NB.ipynb\" target=\"_parent\"><img src=\"https://colab.research.google.com/assets/colab-badge.svg\" alt=\"Open In Colab\"/></a>"
      ]
    },
    {
      "cell_type": "code",
      "execution_count": 67,
      "metadata": {
        "id": "D6jlm-dOIQUW"
      },
      "outputs": [],
      "source": [
        "import numpy as np \n",
        "import pandas as pd\n",
        "import matplotlib.pyplot as plt"
      ]
    },
    {
      "cell_type": "code",
      "source": [
        "dataset = pd.read_csv(\"derm.csv\")\n",
        "# dataset=dataset+1;\n",
        "dataset.head(10)\n",
        "# print(type(dataset))"
      ],
      "metadata": {
        "colab": {
          "base_uri": "https://localhost:8080/",
          "height": 474
        },
        "id": "8nlAsAiTIcCP",
        "outputId": "14e3dc13-d77d-4a83-ce94-2790a6c18c01"
      },
      "execution_count": 68,
      "outputs": [
        {
          "output_type": "execute_result",
          "data": {
            "text/plain": [
              "   erythema  scaling  definite_borders  itching  koebner_phenomenon  \\\n",
              "0         2        2                 0        3                   0   \n",
              "1         3        3                 3        2                   1   \n",
              "2         2        1                 2        3                   1   \n",
              "3         2        2                 2        0                   0   \n",
              "4         2        3                 2        2                   2   \n",
              "5         2        3                 2        0                   0   \n",
              "6         2        1                 0        2                   0   \n",
              "7         2        2                 3        3                   3   \n",
              "8         2        2                 1        0                   2   \n",
              "9         2        2                 1        0                   1   \n",
              "\n",
              "   polygonal_papules  follicular_papules  oral_mucosal_involvement  \\\n",
              "0                  0                   0                         0   \n",
              "1                  0                   0                         0   \n",
              "2                  3                   0                         3   \n",
              "3                  0                   0                         0   \n",
              "4                  2                   0                         2   \n",
              "5                  0                   0                         0   \n",
              "6                  0                   0                         0   \n",
              "7                  3                   0                         2   \n",
              "8                  0                   0                         0   \n",
              "9                  0                   0                         0   \n",
              "\n",
              "   knee_and_elbow_involvement  scalp_involvement  ...  \\\n",
              "0                           1                  0  ...   \n",
              "1                           1                  1  ...   \n",
              "2                           0                  0  ...   \n",
              "3                           3                  2  ...   \n",
              "4                           0                  0  ...   \n",
              "5                           0                  0  ...   \n",
              "6                           0                  0  ...   \n",
              "7                           0                  0  ...   \n",
              "8                           0                  0  ...   \n",
              "9                           0                  0  ...   \n",
              "\n",
              "   disappearance_of_the_granular_layer  \\\n",
              "0                                    0   \n",
              "1                                    0   \n",
              "2                                    0   \n",
              "3                                    3   \n",
              "4                                    2   \n",
              "5                                    0   \n",
              "6                                    0   \n",
              "7                                    2   \n",
              "8                                    0   \n",
              "9                                    0   \n",
              "\n",
              "   vacuolisation_and_damage_of_basal_layer  spongiosis  \\\n",
              "0                                        0           3   \n",
              "1                                        0           0   \n",
              "2                                        2           3   \n",
              "3                                        0           0   \n",
              "4                                        3           2   \n",
              "5                                        0           2   \n",
              "6                                        0           0   \n",
              "7                                        2           3   \n",
              "8                                        0           2   \n",
              "9                                        0           2   \n",
              "\n",
              "   saw-tooth_appearance_of_retes  follicular_horn_plug  \\\n",
              "0                              0                     0   \n",
              "1                              0                     0   \n",
              "2                              2                     0   \n",
              "3                              0                     0   \n",
              "4                              3                     0   \n",
              "5                              0                     0   \n",
              "6                              0                     0   \n",
              "7                              2                     0   \n",
              "8                              0                     0   \n",
              "9                              0                     0   \n",
              "\n",
              "   perifollicular_parakeratosis  inflammatory_monoluclear_inflitrate  \\\n",
              "0                             0                                    1   \n",
              "1                             0                                    1   \n",
              "2                             0                                    2   \n",
              "3                             0                                    3   \n",
              "4                             0                                    2   \n",
              "5                             0                                    1   \n",
              "6                             0                                    2   \n",
              "7                             0                                    3   \n",
              "8                             0                                    2   \n",
              "9                             0                                    2   \n",
              "\n",
              "   band-like_infiltrate   age  class  \n",
              "0                     0  55.0      2  \n",
              "1                     0   8.0      1  \n",
              "2                     3  26.0      3  \n",
              "3                     0  40.0      1  \n",
              "4                     3  45.0      3  \n",
              "5                     0  41.0      2  \n",
              "6                     0  18.0      5  \n",
              "7                     3  57.0      3  \n",
              "8                     0  22.0      4  \n",
              "9                     0  30.0      4  \n",
              "\n",
              "[10 rows x 35 columns]"
            ],
            "text/html": [
              "\n",
              "  <div id=\"df-648ae916-aad1-4768-909f-06d6a792d031\">\n",
              "    <div class=\"colab-df-container\">\n",
              "      <div>\n",
              "<style scoped>\n",
              "    .dataframe tbody tr th:only-of-type {\n",
              "        vertical-align: middle;\n",
              "    }\n",
              "\n",
              "    .dataframe tbody tr th {\n",
              "        vertical-align: top;\n",
              "    }\n",
              "\n",
              "    .dataframe thead th {\n",
              "        text-align: right;\n",
              "    }\n",
              "</style>\n",
              "<table border=\"1\" class=\"dataframe\">\n",
              "  <thead>\n",
              "    <tr style=\"text-align: right;\">\n",
              "      <th></th>\n",
              "      <th>erythema</th>\n",
              "      <th>scaling</th>\n",
              "      <th>definite_borders</th>\n",
              "      <th>itching</th>\n",
              "      <th>koebner_phenomenon</th>\n",
              "      <th>polygonal_papules</th>\n",
              "      <th>follicular_papules</th>\n",
              "      <th>oral_mucosal_involvement</th>\n",
              "      <th>knee_and_elbow_involvement</th>\n",
              "      <th>scalp_involvement</th>\n",
              "      <th>...</th>\n",
              "      <th>disappearance_of_the_granular_layer</th>\n",
              "      <th>vacuolisation_and_damage_of_basal_layer</th>\n",
              "      <th>spongiosis</th>\n",
              "      <th>saw-tooth_appearance_of_retes</th>\n",
              "      <th>follicular_horn_plug</th>\n",
              "      <th>perifollicular_parakeratosis</th>\n",
              "      <th>inflammatory_monoluclear_inflitrate</th>\n",
              "      <th>band-like_infiltrate</th>\n",
              "      <th>age</th>\n",
              "      <th>class</th>\n",
              "    </tr>\n",
              "  </thead>\n",
              "  <tbody>\n",
              "    <tr>\n",
              "      <th>0</th>\n",
              "      <td>2</td>\n",
              "      <td>2</td>\n",
              "      <td>0</td>\n",
              "      <td>3</td>\n",
              "      <td>0</td>\n",
              "      <td>0</td>\n",
              "      <td>0</td>\n",
              "      <td>0</td>\n",
              "      <td>1</td>\n",
              "      <td>0</td>\n",
              "      <td>...</td>\n",
              "      <td>0</td>\n",
              "      <td>0</td>\n",
              "      <td>3</td>\n",
              "      <td>0</td>\n",
              "      <td>0</td>\n",
              "      <td>0</td>\n",
              "      <td>1</td>\n",
              "      <td>0</td>\n",
              "      <td>55.0</td>\n",
              "      <td>2</td>\n",
              "    </tr>\n",
              "    <tr>\n",
              "      <th>1</th>\n",
              "      <td>3</td>\n",
              "      <td>3</td>\n",
              "      <td>3</td>\n",
              "      <td>2</td>\n",
              "      <td>1</td>\n",
              "      <td>0</td>\n",
              "      <td>0</td>\n",
              "      <td>0</td>\n",
              "      <td>1</td>\n",
              "      <td>1</td>\n",
              "      <td>...</td>\n",
              "      <td>0</td>\n",
              "      <td>0</td>\n",
              "      <td>0</td>\n",
              "      <td>0</td>\n",
              "      <td>0</td>\n",
              "      <td>0</td>\n",
              "      <td>1</td>\n",
              "      <td>0</td>\n",
              "      <td>8.0</td>\n",
              "      <td>1</td>\n",
              "    </tr>\n",
              "    <tr>\n",
              "      <th>2</th>\n",
              "      <td>2</td>\n",
              "      <td>1</td>\n",
              "      <td>2</td>\n",
              "      <td>3</td>\n",
              "      <td>1</td>\n",
              "      <td>3</td>\n",
              "      <td>0</td>\n",
              "      <td>3</td>\n",
              "      <td>0</td>\n",
              "      <td>0</td>\n",
              "      <td>...</td>\n",
              "      <td>0</td>\n",
              "      <td>2</td>\n",
              "      <td>3</td>\n",
              "      <td>2</td>\n",
              "      <td>0</td>\n",
              "      <td>0</td>\n",
              "      <td>2</td>\n",
              "      <td>3</td>\n",
              "      <td>26.0</td>\n",
              "      <td>3</td>\n",
              "    </tr>\n",
              "    <tr>\n",
              "      <th>3</th>\n",
              "      <td>2</td>\n",
              "      <td>2</td>\n",
              "      <td>2</td>\n",
              "      <td>0</td>\n",
              "      <td>0</td>\n",
              "      <td>0</td>\n",
              "      <td>0</td>\n",
              "      <td>0</td>\n",
              "      <td>3</td>\n",
              "      <td>2</td>\n",
              "      <td>...</td>\n",
              "      <td>3</td>\n",
              "      <td>0</td>\n",
              "      <td>0</td>\n",
              "      <td>0</td>\n",
              "      <td>0</td>\n",
              "      <td>0</td>\n",
              "      <td>3</td>\n",
              "      <td>0</td>\n",
              "      <td>40.0</td>\n",
              "      <td>1</td>\n",
              "    </tr>\n",
              "    <tr>\n",
              "      <th>4</th>\n",
              "      <td>2</td>\n",
              "      <td>3</td>\n",
              "      <td>2</td>\n",
              "      <td>2</td>\n",
              "      <td>2</td>\n",
              "      <td>2</td>\n",
              "      <td>0</td>\n",
              "      <td>2</td>\n",
              "      <td>0</td>\n",
              "      <td>0</td>\n",
              "      <td>...</td>\n",
              "      <td>2</td>\n",
              "      <td>3</td>\n",
              "      <td>2</td>\n",
              "      <td>3</td>\n",
              "      <td>0</td>\n",
              "      <td>0</td>\n",
              "      <td>2</td>\n",
              "      <td>3</td>\n",
              "      <td>45.0</td>\n",
              "      <td>3</td>\n",
              "    </tr>\n",
              "    <tr>\n",
              "      <th>5</th>\n",
              "      <td>2</td>\n",
              "      <td>3</td>\n",
              "      <td>2</td>\n",
              "      <td>0</td>\n",
              "      <td>0</td>\n",
              "      <td>0</td>\n",
              "      <td>0</td>\n",
              "      <td>0</td>\n",
              "      <td>0</td>\n",
              "      <td>0</td>\n",
              "      <td>...</td>\n",
              "      <td>0</td>\n",
              "      <td>0</td>\n",
              "      <td>2</td>\n",
              "      <td>0</td>\n",
              "      <td>0</td>\n",
              "      <td>0</td>\n",
              "      <td>1</td>\n",
              "      <td>0</td>\n",
              "      <td>41.0</td>\n",
              "      <td>2</td>\n",
              "    </tr>\n",
              "    <tr>\n",
              "      <th>6</th>\n",
              "      <td>2</td>\n",
              "      <td>1</td>\n",
              "      <td>0</td>\n",
              "      <td>2</td>\n",
              "      <td>0</td>\n",
              "      <td>0</td>\n",
              "      <td>0</td>\n",
              "      <td>0</td>\n",
              "      <td>0</td>\n",
              "      <td>0</td>\n",
              "      <td>...</td>\n",
              "      <td>0</td>\n",
              "      <td>0</td>\n",
              "      <td>0</td>\n",
              "      <td>0</td>\n",
              "      <td>0</td>\n",
              "      <td>0</td>\n",
              "      <td>2</td>\n",
              "      <td>0</td>\n",
              "      <td>18.0</td>\n",
              "      <td>5</td>\n",
              "    </tr>\n",
              "    <tr>\n",
              "      <th>7</th>\n",
              "      <td>2</td>\n",
              "      <td>2</td>\n",
              "      <td>3</td>\n",
              "      <td>3</td>\n",
              "      <td>3</td>\n",
              "      <td>3</td>\n",
              "      <td>0</td>\n",
              "      <td>2</td>\n",
              "      <td>0</td>\n",
              "      <td>0</td>\n",
              "      <td>...</td>\n",
              "      <td>2</td>\n",
              "      <td>2</td>\n",
              "      <td>3</td>\n",
              "      <td>2</td>\n",
              "      <td>0</td>\n",
              "      <td>0</td>\n",
              "      <td>3</td>\n",
              "      <td>3</td>\n",
              "      <td>57.0</td>\n",
              "      <td>3</td>\n",
              "    </tr>\n",
              "    <tr>\n",
              "      <th>8</th>\n",
              "      <td>2</td>\n",
              "      <td>2</td>\n",
              "      <td>1</td>\n",
              "      <td>0</td>\n",
              "      <td>2</td>\n",
              "      <td>0</td>\n",
              "      <td>0</td>\n",
              "      <td>0</td>\n",
              "      <td>0</td>\n",
              "      <td>0</td>\n",
              "      <td>...</td>\n",
              "      <td>0</td>\n",
              "      <td>0</td>\n",
              "      <td>2</td>\n",
              "      <td>0</td>\n",
              "      <td>0</td>\n",
              "      <td>0</td>\n",
              "      <td>2</td>\n",
              "      <td>0</td>\n",
              "      <td>22.0</td>\n",
              "      <td>4</td>\n",
              "    </tr>\n",
              "    <tr>\n",
              "      <th>9</th>\n",
              "      <td>2</td>\n",
              "      <td>2</td>\n",
              "      <td>1</td>\n",
              "      <td>0</td>\n",
              "      <td>1</td>\n",
              "      <td>0</td>\n",
              "      <td>0</td>\n",
              "      <td>0</td>\n",
              "      <td>0</td>\n",
              "      <td>0</td>\n",
              "      <td>...</td>\n",
              "      <td>0</td>\n",
              "      <td>0</td>\n",
              "      <td>2</td>\n",
              "      <td>0</td>\n",
              "      <td>0</td>\n",
              "      <td>0</td>\n",
              "      <td>2</td>\n",
              "      <td>0</td>\n",
              "      <td>30.0</td>\n",
              "      <td>4</td>\n",
              "    </tr>\n",
              "  </tbody>\n",
              "</table>\n",
              "<p>10 rows × 35 columns</p>\n",
              "</div>\n",
              "      <button class=\"colab-df-convert\" onclick=\"convertToInteractive('df-648ae916-aad1-4768-909f-06d6a792d031')\"\n",
              "              title=\"Convert this dataframe to an interactive table.\"\n",
              "              style=\"display:none;\">\n",
              "        \n",
              "  <svg xmlns=\"http://www.w3.org/2000/svg\" height=\"24px\"viewBox=\"0 0 24 24\"\n",
              "       width=\"24px\">\n",
              "    <path d=\"M0 0h24v24H0V0z\" fill=\"none\"/>\n",
              "    <path d=\"M18.56 5.44l.94 2.06.94-2.06 2.06-.94-2.06-.94-.94-2.06-.94 2.06-2.06.94zm-11 1L8.5 8.5l.94-2.06 2.06-.94-2.06-.94L8.5 2.5l-.94 2.06-2.06.94zm10 10l.94 2.06.94-2.06 2.06-.94-2.06-.94-.94-2.06-.94 2.06-2.06.94z\"/><path d=\"M17.41 7.96l-1.37-1.37c-.4-.4-.92-.59-1.43-.59-.52 0-1.04.2-1.43.59L10.3 9.45l-7.72 7.72c-.78.78-.78 2.05 0 2.83L4 21.41c.39.39.9.59 1.41.59.51 0 1.02-.2 1.41-.59l7.78-7.78 2.81-2.81c.8-.78.8-2.07 0-2.86zM5.41 20L4 18.59l7.72-7.72 1.47 1.35L5.41 20z\"/>\n",
              "  </svg>\n",
              "      </button>\n",
              "      \n",
              "  <style>\n",
              "    .colab-df-container {\n",
              "      display:flex;\n",
              "      flex-wrap:wrap;\n",
              "      gap: 12px;\n",
              "    }\n",
              "\n",
              "    .colab-df-convert {\n",
              "      background-color: #E8F0FE;\n",
              "      border: none;\n",
              "      border-radius: 50%;\n",
              "      cursor: pointer;\n",
              "      display: none;\n",
              "      fill: #1967D2;\n",
              "      height: 32px;\n",
              "      padding: 0 0 0 0;\n",
              "      width: 32px;\n",
              "    }\n",
              "\n",
              "    .colab-df-convert:hover {\n",
              "      background-color: #E2EBFA;\n",
              "      box-shadow: 0px 1px 2px rgba(60, 64, 67, 0.3), 0px 1px 3px 1px rgba(60, 64, 67, 0.15);\n",
              "      fill: #174EA6;\n",
              "    }\n",
              "\n",
              "    [theme=dark] .colab-df-convert {\n",
              "      background-color: #3B4455;\n",
              "      fill: #D2E3FC;\n",
              "    }\n",
              "\n",
              "    [theme=dark] .colab-df-convert:hover {\n",
              "      background-color: #434B5C;\n",
              "      box-shadow: 0px 1px 3px 1px rgba(0, 0, 0, 0.15);\n",
              "      filter: drop-shadow(0px 1px 2px rgba(0, 0, 0, 0.3));\n",
              "      fill: #FFFFFF;\n",
              "    }\n",
              "  </style>\n",
              "\n",
              "      <script>\n",
              "        const buttonEl =\n",
              "          document.querySelector('#df-648ae916-aad1-4768-909f-06d6a792d031 button.colab-df-convert');\n",
              "        buttonEl.style.display =\n",
              "          google.colab.kernel.accessAllowed ? 'block' : 'none';\n",
              "\n",
              "        async function convertToInteractive(key) {\n",
              "          const element = document.querySelector('#df-648ae916-aad1-4768-909f-06d6a792d031');\n",
              "          const dataTable =\n",
              "            await google.colab.kernel.invokeFunction('convertToInteractive',\n",
              "                                                     [key], {});\n",
              "          if (!dataTable) return;\n",
              "\n",
              "          const docLinkHtml = 'Like what you see? Visit the ' +\n",
              "            '<a target=\"_blank\" href=https://colab.research.google.com/notebooks/data_table.ipynb>data table notebook</a>'\n",
              "            + ' to learn more about interactive tables.';\n",
              "          element.innerHTML = '';\n",
              "          dataTable['output_type'] = 'display_data';\n",
              "          await google.colab.output.renderOutput(dataTable, element);\n",
              "          const docLink = document.createElement('div');\n",
              "          docLink.innerHTML = docLinkHtml;\n",
              "          element.appendChild(docLink);\n",
              "        }\n",
              "      </script>\n",
              "    </div>\n",
              "  </div>\n",
              "  "
            ]
          },
          "metadata": {},
          "execution_count": 68
        }
      ]
    },
    {
      "cell_type": "code",
      "source": [
        "print(dataset.shape)"
      ],
      "metadata": {
        "colab": {
          "base_uri": "https://localhost:8080/"
        },
        "id": "lrn1yxgoDi2q",
        "outputId": "2e98b5ca-4c55-4fe3-85bd-a08b6064dc3e"
      },
      "execution_count": 69,
      "outputs": [
        {
          "output_type": "stream",
          "name": "stdout",
          "text": [
            "(366, 35)\n"
          ]
        }
      ]
    },
    {
      "cell_type": "code",
      "source": [
        "dataset.isnull().sum()#in our data set we have any missing values so we have to replace missing values with mode age"
      ],
      "metadata": {
        "colab": {
          "base_uri": "https://localhost:8080/"
        },
        "id": "FUxDlQ37DqLm",
        "outputId": "0533da9f-9723-4cb2-80a3-feb4ee1218da"
      },
      "execution_count": 70,
      "outputs": [
        {
          "output_type": "execute_result",
          "data": {
            "text/plain": [
              "erythema                                    0\n",
              "scaling                                     0\n",
              "definite_borders                            0\n",
              "itching                                     0\n",
              "koebner_phenomenon                          0\n",
              "polygonal_papules                           0\n",
              "follicular_papules                          0\n",
              "oral_mucosal_involvement                    0\n",
              "knee_and_elbow_involvement                  0\n",
              "scalp_involvement                           0\n",
              "family_history                              0\n",
              "melanin_incontinence                        0\n",
              "eosinophils_in_the_infiltrate               0\n",
              "pnl_infiltrate                              0\n",
              "fibrosis_of_the_papillary_dermis            0\n",
              "exocytosis                                  0\n",
              "acanthosis                                  0\n",
              "hyperkeratosis                              0\n",
              "parakeratosis                               0\n",
              "clubbing_of_the_rete_ridges                 0\n",
              "elongation_of_the_rete_ridges               0\n",
              "thinning_of_the_suprapapillary_epidermis    0\n",
              "spongiform_pustule                          0\n",
              "munro_microabcess                           0\n",
              "focal_hypergranulosis                       0\n",
              "disappearance_of_the_granular_layer         0\n",
              "vacuolisation_and_damage_of_basal_layer     0\n",
              "spongiosis                                  0\n",
              "saw-tooth_appearance_of_retes               0\n",
              "follicular_horn_plug                        0\n",
              "perifollicular_parakeratosis                0\n",
              "inflammatory_monoluclear_inflitrate         0\n",
              "band-like_infiltrate                        0\n",
              "age                                         8\n",
              "class                                       0\n",
              "dtype: int64"
            ]
          },
          "metadata": {},
          "execution_count": 70
        }
      ]
    },
    {
      "cell_type": "code",
      "source": [
        "df=dataset['age'].fillna(dataset['age'].mode()[0])\n",
        "dataset['age']=df\n",
        "dataset.isnull().sum()"
      ],
      "metadata": {
        "colab": {
          "base_uri": "https://localhost:8080/"
        },
        "id": "txofV6ZPIh3C",
        "outputId": "8b643067-fe96-40fb-d906-885b1ffec9d1"
      },
      "execution_count": 71,
      "outputs": [
        {
          "output_type": "execute_result",
          "data": {
            "text/plain": [
              "erythema                                    0\n",
              "scaling                                     0\n",
              "definite_borders                            0\n",
              "itching                                     0\n",
              "koebner_phenomenon                          0\n",
              "polygonal_papules                           0\n",
              "follicular_papules                          0\n",
              "oral_mucosal_involvement                    0\n",
              "knee_and_elbow_involvement                  0\n",
              "scalp_involvement                           0\n",
              "family_history                              0\n",
              "melanin_incontinence                        0\n",
              "eosinophils_in_the_infiltrate               0\n",
              "pnl_infiltrate                              0\n",
              "fibrosis_of_the_papillary_dermis            0\n",
              "exocytosis                                  0\n",
              "acanthosis                                  0\n",
              "hyperkeratosis                              0\n",
              "parakeratosis                               0\n",
              "clubbing_of_the_rete_ridges                 0\n",
              "elongation_of_the_rete_ridges               0\n",
              "thinning_of_the_suprapapillary_epidermis    0\n",
              "spongiform_pustule                          0\n",
              "munro_microabcess                           0\n",
              "focal_hypergranulosis                       0\n",
              "disappearance_of_the_granular_layer         0\n",
              "vacuolisation_and_damage_of_basal_layer     0\n",
              "spongiosis                                  0\n",
              "saw-tooth_appearance_of_retes               0\n",
              "follicular_horn_plug                        0\n",
              "perifollicular_parakeratosis                0\n",
              "inflammatory_monoluclear_inflitrate         0\n",
              "band-like_infiltrate                        0\n",
              "age                                         0\n",
              "class                                       0\n",
              "dtype: int64"
            ]
          },
          "metadata": {},
          "execution_count": 71
        }
      ]
    },
    {
      "cell_type": "code",
      "source": [
        "dataset[\"class\"].hist()\n",
        "plt.xlabel('class')\n",
        "plt.ylabel('count')"
      ],
      "metadata": {
        "colab": {
          "base_uri": "https://localhost:8080/",
          "height": 296
        },
        "id": "VHG7Yop4rOM5",
        "outputId": "eed3ac44-ee82-451a-e233-0cae61ecc8ad"
      },
      "execution_count": 72,
      "outputs": [
        {
          "output_type": "execute_result",
          "data": {
            "text/plain": [
              "Text(0, 0.5, 'count')"
            ]
          },
          "metadata": {},
          "execution_count": 72
        },
        {
          "output_type": "display_data",
          "data": {
            "text/plain": [
              "<Figure size 432x288 with 1 Axes>"
            ],
            "image/png": "[encoded data removed]"
          },
          "metadata": {
            "needs_background": "light"
          }
        }
      ]
    },
    {
      "cell_type": "code",
      "source": [
        "# dataset=dataset+1;"
      ],
      "metadata": {
        "id": "aO1DHLp_Ilbk"
      },
      "execution_count": 73,
      "outputs": []
    },
    {
      "cell_type": "code",
      "source": [
        "dataset=dataset.to_numpy()\n",
        "print(type(dataset))"
      ],
      "metadata": {
        "colab": {
          "base_uri": "https://localhost:8080/"
        },
        "id": "CWA-1wESIoF7",
        "outputId": "f1e5aaac-b330-4cab-809d-9d5583466092"
      },
      "execution_count": 74,
      "outputs": [
        {
          "output_type": "stream",
          "name": "stdout",
          "text": [
            "<class 'numpy.ndarray'>\n"
          ]
        }
      ]
    },
    {
      "cell_type": "code",
      "source": [
        "def separate(X,y,c):\n",
        "  return X[c==y]"
      ],
      "metadata": {
        "id": "FFTQ_nu9Ha3f"
      },
      "execution_count": 75,
      "outputs": []
    },
    {
      "cell_type": "code",
      "source": [
        "def model(X, y):\n",
        "    samples, features = X.shape\n",
        "    classes = np.unique(y)\n",
        "    count_classes = len(classes)\n",
        "\n",
        "    # calculate mean, var, and prior for each class\n",
        "    mean = np.zeros((count_classes, features), dtype=np.float64)\n",
        "    var = np.zeros((count_classes, features), dtype=np.float64)\n",
        "    priors = np.zeros(count_classes, dtype=np.float64)\n",
        "\n",
        "    for index, c in enumerate(classes):\n",
        "        # x = X[y == c]\n",
        "        x=separate(X,y,c)\n",
        "        mean[index, :] = x.mean(axis=0)+0.1\n",
        "        var[index, :] = x.var(axis=0)+0.1\n",
        "        priors[index] = x.shape[0] / float(samples)\n",
        "    return mean,var,priors,classes"
      ],
      "metadata": {
        "id": "vs5dYb8HIvXz"
      },
      "execution_count": 76,
      "outputs": []
    },
    {
      "cell_type": "code",
      "source": [
        "def predict(X,classes,prior,mean,vars):\n",
        "    y_pred = [predict_model(x,classes,prior,mean,vars) for x in X]\n",
        "    # print(type(y_pred))\n",
        "    return np.array(y_pred)"
      ],
      "metadata": {
        "id": "hobRoAeiJN-5"
      },
      "execution_count": 77,
      "outputs": []
    },
    {
      "cell_type": "code",
      "source": [
        "def predict_model(x,classes,priors,mean,var):\n",
        "    posteriors = []\n",
        "\n",
        "    # calculate posterior probability for each class\n",
        "    for index, c in enumerate(classes):\n",
        "        prior = np.log(priors[index])\n",
        "        posterior = np.sum(np.log(Gaussian(index, x,mean,var)))\n",
        "        posterior = prior + posterior\n",
        "        posteriors.append(posterior)\n",
        "\n",
        "    # return class with highest posterior probability\n",
        "    return classes[np.argmax(posteriors)]"
      ],
      "metadata": {
        "id": "GDIeIe5iJdtm"
      },
      "execution_count": 78,
      "outputs": []
    },
    {
      "cell_type": "code",
      "source": [
        "def Gaussian(index, x,mean,var):\n",
        "    mean = mean[index]\n",
        "    var = var[index]\n",
        "    num = np.exp(-((x - mean) ** 2) / (2 * var))\n",
        "    deno = np.sqrt(2 * np.pi * var)\n",
        "    return num / deno"
      ],
      "metadata": {
        "id": "VpT94M_VJpLN"
      },
      "execution_count": 79,
      "outputs": []
    },
    {
      "cell_type": "code",
      "source": [
        "def accuracy(y_true, y_pred):\n",
        "    accuracy = np.sum(y_true == y_pred) / len(y_true)\n",
        "    return accuracy"
      ],
      "metadata": {
        "id": "v0Lod9KJJ8T9"
      },
      "execution_count": 80,
      "outputs": []
    },
    {
      "cell_type": "code",
      "source": [
        "from sklearn.model_selection import train_test_split\n",
        "X=dataset[:,:-1]\n",
        "y=dataset[:,-1]\n",
        "X_train, X_test, y_train, y_test = train_test_split( X, y,train_size=0.2 ,test_size=0.8, random_state=10)"
      ],
      "metadata": {
        "id": "EjVE0MC2KAyI"
      },
      "execution_count": 81,
      "outputs": []
    },
    {
      "cell_type": "code",
      "source": [
        "mean,var,prior,classes=model(X_train, y_train)\n",
        "# print(mean)\n",
        "# print(var)\n",
        "# print(prior)\n",
        "# print(classes)\n",
        "predictions = predict(X_test,classes,prior,mean,var)\n"
      ],
      "metadata": {
        "id": "Y33XorGfKLbs"
      },
      "execution_count": 82,
      "outputs": []
    },
    {
      "cell_type": "code",
      "source": [
        "print(\"classification accuracy = \", accuracy(y_test, predictions))\n",
        "from sklearn.metrics import confusion_matrix, f1_score\n",
        "print()\n",
        "print(\"confusion matrix\")\n",
        "print(confusion_matrix(y_test, predictions))\n",
        "print()\n",
        "print(\"f1_score\")\n",
        "print(f1_score(y_test,predictions,average=None))"
      ],
      "metadata": {
        "colab": {
          "base_uri": "https://localhost:8080/"
        },
        "id": "9YFT6hAIFjGE",
        "outputId": "656a2a72-e5cb-4aac-d52c-87ad521749d5"
      },
      "execution_count": 83,
      "outputs": [
        {
          "output_type": "stream",
          "name": "stdout",
          "text": [
            "classification accuracy =  0.9522184300341296\n",
            "\n",
            "confusion matrix\n",
            "[[93  0  0  0  0  0]\n",
            " [ 0 41  0  6  0  0]\n",
            " [ 0  0 60  0  0  0]\n",
            " [ 0  8  0 30  0  0]\n",
            " [ 0  0  0  0 42  0]\n",
            " [ 0  0  0  0  0 13]]\n",
            "\n",
            "f1_score\n",
            "[1.         0.85416667 1.         0.81081081 1.         1.        ]\n"
          ]
        }
      ]
    },
    {
      "cell_type": "code",
      "source": [],
      "metadata": {
        "id": "NT7-HnxCtCLT"
      },
      "execution_count": 83,
      "outputs": []
    }
  ]
}