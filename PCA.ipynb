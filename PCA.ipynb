{
  "nbformat": 4,
  "nbformat_minor": 0,
  "metadata": {
    "colab": {
      "name": "PCA.ipynb",
      "provenance": [],
      "collapsed_sections": [],
      "include_colab_link": true
    },
    "kernelspec": {
      "name": "python3",
      "display_name": "Python 3"
    },
    "language_info": {
      "name": "python"
    }
  },
  "cells": [
    {
      "cell_type": "markdown",
      "metadata": {
        "id": "view-in-github",
        "colab_type": "text"
      },
      "source": [
        "<a href=\"https://colab.research.google.com/github/ASHISHVERMA114142/ML_Projects/blob/main/PCA.ipynb\" target=\"_parent\"><img src=\"https://colab.research.google.com/assets/colab-badge.svg\" alt=\"Open In Colab\"/></a>"
      ]
    },
    {
      "cell_type": "code",
      "execution_count": null,
      "metadata": {
        "id": "rS60QD4kodat"
      },
      "outputs": [],
      "source": [
        "import numpy as np\n",
        "import pandas as pd\n",
        "import pprint\n",
        "import io\n",
        "from sklearn import metrics\n",
        "from sklearn.model_selection import train_test_split"
      ]
    },
    {
      "cell_type": "code",
      "source": [
        "data = pd.read_csv('derm.csv')\n",
        "data.head()"
      ],
      "metadata": {
        "id": "loLqeznsqepO",
        "colab": {
          "base_uri": "https://localhost:8080/",
          "height": 288
        },
        "outputId": "4134c401-890c-403d-9379-3c1dc765f9d7"
      },
      "execution_count": null,
      "outputs": [
        {
          "output_type": "execute_result",
          "data": {
            "text/html": [
              "\n",
              "  <div id=\"df-93e4daaf-0bce-4c51-b60e-0a8e052a8c80\">\n",
              "    <div class=\"colab-df-container\">\n",
              "      <div>\n",
              "<style scoped>\n",
              "    .dataframe tbody tr th:only-of-type {\n",
              "        vertical-align: middle;\n",
              "    }\n",
              "\n",
              "    .dataframe tbody tr th {\n",
              "        vertical-align: top;\n",
              "    }\n",
              "\n",
              "    .dataframe thead th {\n",
              "        text-align: right;\n",
              "    }\n",
              "</style>\n",
              "<table border=\"1\" class=\"dataframe\">\n",
              "  <thead>\n",
              "    <tr style=\"text-align: right;\">\n",
              "      <th></th>\n",
              "      <th>erythema</th>\n",
              "      <th>scaling</th>\n",
              "      <th>definite_borders</th>\n",
              "      <th>itching</th>\n",
              "      <th>koebner_phenomenon</th>\n",
              "      <th>polygonal_papules</th>\n",
              "      <th>follicular_papules</th>\n",
              "      <th>oral_mucosal_involvement</th>\n",
              "      <th>knee_and_elbow_involvement</th>\n",
              "      <th>scalp_involvement</th>\n",
              "      <th>family_history</th>\n",
              "      <th>melanin_incontinence</th>\n",
              "      <th>eosinophils_in_the_infiltrate</th>\n",
              "      <th>pnl_infiltrate</th>\n",
              "      <th>fibrosis_of_the_papillary_dermis</th>\n",
              "      <th>exocytosis</th>\n",
              "      <th>acanthosis</th>\n",
              "      <th>hyperkeratosis</th>\n",
              "      <th>parakeratosis</th>\n",
              "      <th>clubbing_of_the_rete_ridges</th>\n",
              "      <th>elongation_of_the_rete_ridges</th>\n",
              "      <th>thinning_of_the_suprapapillary_epidermis</th>\n",
              "      <th>spongiform_pustule</th>\n",
              "      <th>munro_microabcess</th>\n",
              "      <th>focal_hypergranulosis</th>\n",
              "      <th>disappearance_of_the_granular_layer</th>\n",
              "      <th>vacuolisation_and_damage_of_basal_layer</th>\n",
              "      <th>spongiosis</th>\n",
              "      <th>saw-tooth_appearance_of_retes</th>\n",
              "      <th>follicular_horn_plug</th>\n",
              "      <th>perifollicular_parakeratosis</th>\n",
              "      <th>inflammatory_monoluclear_inflitrate</th>\n",
              "      <th>band-like_infiltrate</th>\n",
              "      <th>age</th>\n",
              "      <th>class</th>\n",
              "    </tr>\n",
              "  </thead>\n",
              "  <tbody>\n",
              "    <tr>\n",
              "      <th>0</th>\n",
              "      <td>2</td>\n",
              "      <td>2</td>\n",
              "      <td>0</td>\n",
              "      <td>3</td>\n",
              "      <td>0</td>\n",
              "      <td>0</td>\n",
              "      <td>0</td>\n",
              "      <td>0</td>\n",
              "      <td>1</td>\n",
              "      <td>0</td>\n",
              "      <td>0</td>\n",
              "      <td>0</td>\n",
              "      <td>0</td>\n",
              "      <td>0</td>\n",
              "      <td>0</td>\n",
              "      <td>3</td>\n",
              "      <td>2</td>\n",
              "      <td>0</td>\n",
              "      <td>0</td>\n",
              "      <td>0</td>\n",
              "      <td>0</td>\n",
              "      <td>0</td>\n",
              "      <td>0</td>\n",
              "      <td>0</td>\n",
              "      <td>0</td>\n",
              "      <td>0</td>\n",
              "      <td>0</td>\n",
              "      <td>3</td>\n",
              "      <td>0</td>\n",
              "      <td>0</td>\n",
              "      <td>0</td>\n",
              "      <td>1</td>\n",
              "      <td>0</td>\n",
              "      <td>55.0</td>\n",
              "      <td>2</td>\n",
              "    </tr>\n",
              "    <tr>\n",
              "      <th>1</th>\n",
              "      <td>3</td>\n",
              "      <td>3</td>\n",
              "      <td>3</td>\n",
              "      <td>2</td>\n",
              "      <td>1</td>\n",
              "      <td>0</td>\n",
              "      <td>0</td>\n",
              "      <td>0</td>\n",
              "      <td>1</td>\n",
              "      <td>1</td>\n",
              "      <td>1</td>\n",
              "      <td>0</td>\n",
              "      <td>0</td>\n",
              "      <td>1</td>\n",
              "      <td>0</td>\n",
              "      <td>1</td>\n",
              "      <td>2</td>\n",
              "      <td>0</td>\n",
              "      <td>2</td>\n",
              "      <td>2</td>\n",
              "      <td>2</td>\n",
              "      <td>2</td>\n",
              "      <td>2</td>\n",
              "      <td>1</td>\n",
              "      <td>0</td>\n",
              "      <td>0</td>\n",
              "      <td>0</td>\n",
              "      <td>0</td>\n",
              "      <td>0</td>\n",
              "      <td>0</td>\n",
              "      <td>0</td>\n",
              "      <td>1</td>\n",
              "      <td>0</td>\n",
              "      <td>8.0</td>\n",
              "      <td>1</td>\n",
              "    </tr>\n",
              "    <tr>\n",
              "      <th>2</th>\n",
              "      <td>2</td>\n",
              "      <td>1</td>\n",
              "      <td>2</td>\n",
              "      <td>3</td>\n",
              "      <td>1</td>\n",
              "      <td>3</td>\n",
              "      <td>0</td>\n",
              "      <td>3</td>\n",
              "      <td>0</td>\n",
              "      <td>0</td>\n",
              "      <td>0</td>\n",
              "      <td>1</td>\n",
              "      <td>0</td>\n",
              "      <td>0</td>\n",
              "      <td>0</td>\n",
              "      <td>1</td>\n",
              "      <td>2</td>\n",
              "      <td>0</td>\n",
              "      <td>2</td>\n",
              "      <td>0</td>\n",
              "      <td>0</td>\n",
              "      <td>0</td>\n",
              "      <td>0</td>\n",
              "      <td>0</td>\n",
              "      <td>2</td>\n",
              "      <td>0</td>\n",
              "      <td>2</td>\n",
              "      <td>3</td>\n",
              "      <td>2</td>\n",
              "      <td>0</td>\n",
              "      <td>0</td>\n",
              "      <td>2</td>\n",
              "      <td>3</td>\n",
              "      <td>26.0</td>\n",
              "      <td>3</td>\n",
              "    </tr>\n",
              "    <tr>\n",
              "      <th>3</th>\n",
              "      <td>2</td>\n",
              "      <td>2</td>\n",
              "      <td>2</td>\n",
              "      <td>0</td>\n",
              "      <td>0</td>\n",
              "      <td>0</td>\n",
              "      <td>0</td>\n",
              "      <td>0</td>\n",
              "      <td>3</td>\n",
              "      <td>2</td>\n",
              "      <td>0</td>\n",
              "      <td>0</td>\n",
              "      <td>0</td>\n",
              "      <td>3</td>\n",
              "      <td>0</td>\n",
              "      <td>0</td>\n",
              "      <td>2</td>\n",
              "      <td>0</td>\n",
              "      <td>3</td>\n",
              "      <td>2</td>\n",
              "      <td>2</td>\n",
              "      <td>2</td>\n",
              "      <td>2</td>\n",
              "      <td>0</td>\n",
              "      <td>0</td>\n",
              "      <td>3</td>\n",
              "      <td>0</td>\n",
              "      <td>0</td>\n",
              "      <td>0</td>\n",
              "      <td>0</td>\n",
              "      <td>0</td>\n",
              "      <td>3</td>\n",
              "      <td>0</td>\n",
              "      <td>40.0</td>\n",
              "      <td>1</td>\n",
              "    </tr>\n",
              "    <tr>\n",
              "      <th>4</th>\n",
              "      <td>2</td>\n",
              "      <td>3</td>\n",
              "      <td>2</td>\n",
              "      <td>2</td>\n",
              "      <td>2</td>\n",
              "      <td>2</td>\n",
              "      <td>0</td>\n",
              "      <td>2</td>\n",
              "      <td>0</td>\n",
              "      <td>0</td>\n",
              "      <td>0</td>\n",
              "      <td>1</td>\n",
              "      <td>0</td>\n",
              "      <td>0</td>\n",
              "      <td>0</td>\n",
              "      <td>1</td>\n",
              "      <td>2</td>\n",
              "      <td>0</td>\n",
              "      <td>0</td>\n",
              "      <td>0</td>\n",
              "      <td>0</td>\n",
              "      <td>0</td>\n",
              "      <td>0</td>\n",
              "      <td>0</td>\n",
              "      <td>2</td>\n",
              "      <td>2</td>\n",
              "      <td>3</td>\n",
              "      <td>2</td>\n",
              "      <td>3</td>\n",
              "      <td>0</td>\n",
              "      <td>0</td>\n",
              "      <td>2</td>\n",
              "      <td>3</td>\n",
              "      <td>45.0</td>\n",
              "      <td>3</td>\n",
              "    </tr>\n",
              "  </tbody>\n",
              "</table>\n",
              "</div>\n",
              "      <button class=\"colab-df-convert\" onclick=\"convertToInteractive('df-93e4daaf-0bce-4c51-b60e-0a8e052a8c80')\"\n",
              "              title=\"Convert this dataframe to an interactive table.\"\n",
              "              style=\"display:none;\">\n",
              "        \n",
              "  <svg xmlns=\"http://www.w3.org/2000/svg\" height=\"24px\"viewBox=\"0 0 24 24\"\n",
              "       width=\"24px\">\n",
              "    <path d=\"M0 0h24v24H0V0z\" fill=\"none\"/>\n",
              "    <path d=\"M18.56 5.44l.94 2.06.94-2.06 2.06-.94-2.06-.94-.94-2.06-.94 2.06-2.06.94zm-11 1L8.5 8.5l.94-2.06 2.06-.94-2.06-.94L8.5 2.5l-.94 2.06-2.06.94zm10 10l.94 2.06.94-2.06 2.06-.94-2.06-.94-.94-2.06-.94 2.06-2.06.94z\"/><path d=\"M17.41 7.96l-1.37-1.37c-.4-.4-.92-.59-1.43-.59-.52 0-1.04.2-1.43.59L10.3 9.45l-7.72 7.72c-.78.78-.78 2.05 0 2.83L4 21.41c.39.39.9.59 1.41.59.51 0 1.02-.2 1.41-.59l7.78-7.78 2.81-2.81c.8-.78.8-2.07 0-2.86zM5.41 20L4 18.59l7.72-7.72 1.47 1.35L5.41 20z\"/>\n",
              "  </svg>\n",
              "      </button>\n",
              "      \n",
              "  <style>\n",
              "    .colab-df-container {\n",
              "      display:flex;\n",
              "      flex-wrap:wrap;\n",
              "      gap: 12px;\n",
              "    }\n",
              "\n",
              "    .colab-df-convert {\n",
              "      background-color: #E8F0FE;\n",
              "      border: none;\n",
              "      border-radius: 50%;\n",
              "      cursor: pointer;\n",
              "      display: none;\n",
              "      fill: #1967D2;\n",
              "      height: 32px;\n",
              "      padding: 0 0 0 0;\n",
              "      width: 32px;\n",
              "    }\n",
              "\n",
              "    .colab-df-convert:hover {\n",
              "      background-color: #E2EBFA;\n",
              "      box-shadow: 0px 1px 2px rgba(60, 64, 67, 0.3), 0px 1px 3px 1px rgba(60, 64, 67, 0.15);\n",
              "      fill: #174EA6;\n",
              "    }\n",
              "\n",
              "    [theme=dark] .colab-df-convert {\n",
              "      background-color: #3B4455;\n",
              "      fill: #D2E3FC;\n",
              "    }\n",
              "\n",
              "    [theme=dark] .colab-df-convert:hover {\n",
              "      background-color: #434B5C;\n",
              "      box-shadow: 0px 1px 3px 1px rgba(0, 0, 0, 0.15);\n",
              "      filter: drop-shadow(0px 1px 2px rgba(0, 0, 0, 0.3));\n",
              "      fill: #FFFFFF;\n",
              "    }\n",
              "  </style>\n",
              "\n",
              "      <script>\n",
              "        const buttonEl =\n",
              "          document.querySelector('#df-93e4daaf-0bce-4c51-b60e-0a8e052a8c80 button.colab-df-convert');\n",
              "        buttonEl.style.display =\n",
              "          google.colab.kernel.accessAllowed ? 'block' : 'none';\n",
              "\n",
              "        async function convertToInteractive(key) {\n",
              "          const element = document.querySelector('#df-93e4daaf-0bce-4c51-b60e-0a8e052a8c80');\n",
              "          const dataTable =\n",
              "            await google.colab.kernel.invokeFunction('convertToInteractive',\n",
              "                                                     [key], {});\n",
              "          if (!dataTable) return;\n",
              "\n",
              "          const docLinkHtml = 'Like what you see? Visit the ' +\n",
              "            '<a target=\"_blank\" href=https://colab.research.google.com/notebooks/data_table.ipynb>data table notebook</a>'\n",
              "            + ' to learn more about interactive tables.';\n",
              "          element.innerHTML = '';\n",
              "          dataTable['output_type'] = 'display_data';\n",
              "          await google.colab.output.renderOutput(dataTable, element);\n",
              "          const docLink = document.createElement('div');\n",
              "          docLink.innerHTML = docLinkHtml;\n",
              "          element.appendChild(docLink);\n",
              "        }\n",
              "      </script>\n",
              "    </div>\n",
              "  </div>\n",
              "  "
            ],
            "text/plain": [
              "   erythema  scaling  definite_borders  ...  band-like_infiltrate   age  class\n",
              "0         2        2                 0  ...                     0  55.0      2\n",
              "1         3        3                 3  ...                     0   8.0      1\n",
              "2         2        1                 2  ...                     3  26.0      3\n",
              "3         2        2                 2  ...                     0  40.0      1\n",
              "4         2        3                 2  ...                     3  45.0      3\n",
              "\n",
              "[5 rows x 35 columns]"
            ]
          },
          "metadata": {},
          "execution_count": 282
        }
      ]
    },
    {
      "cell_type": "markdown",
      "source": [
        "Checking for null values in the dataset\n"
      ],
      "metadata": {
        "id": "M16Zn_rhQieX"
      }
    },
    {
      "cell_type": "code",
      "source": [
        "data.isnull().sum()"
      ],
      "metadata": {
        "id": "eitZhDrHqwIk",
        "colab": {
          "base_uri": "https://localhost:8080/"
        },
        "outputId": "85b27d42-41fd-45ae-fa5f-efc1615cd94b"
      },
      "execution_count": null,
      "outputs": [
        {
          "output_type": "execute_result",
          "data": {
            "text/plain": [
              "erythema                                    0\n",
              "scaling                                     0\n",
              "definite_borders                            0\n",
              "itching                                     0\n",
              "koebner_phenomenon                          0\n",
              "polygonal_papules                           0\n",
              "follicular_papules                          0\n",
              "oral_mucosal_involvement                    0\n",
              "knee_and_elbow_involvement                  0\n",
              "scalp_involvement                           0\n",
              "family_history                              0\n",
              "melanin_incontinence                        0\n",
              "eosinophils_in_the_infiltrate               0\n",
              "pnl_infiltrate                              0\n",
              "fibrosis_of_the_papillary_dermis            0\n",
              "exocytosis                                  0\n",
              "acanthosis                                  0\n",
              "hyperkeratosis                              0\n",
              "parakeratosis                               0\n",
              "clubbing_of_the_rete_ridges                 0\n",
              "elongation_of_the_rete_ridges               0\n",
              "thinning_of_the_suprapapillary_epidermis    0\n",
              "spongiform_pustule                          0\n",
              "munro_microabcess                           0\n",
              "focal_hypergranulosis                       0\n",
              "disappearance_of_the_granular_layer         0\n",
              "vacuolisation_and_damage_of_basal_layer     0\n",
              "spongiosis                                  0\n",
              "saw-tooth_appearance_of_retes               0\n",
              "follicular_horn_plug                        0\n",
              "perifollicular_parakeratosis                0\n",
              "inflammatory_monoluclear_inflitrate         0\n",
              "band-like_infiltrate                        0\n",
              "age                                         8\n",
              "class                                       0\n",
              "dtype: int64"
            ]
          },
          "metadata": {},
          "execution_count": 283
        }
      ]
    },
    {
      "cell_type": "markdown",
      "source": [
        "Filling null values by mode ..."
      ],
      "metadata": {
        "id": "Q53BpN3LQwoE"
      }
    },
    {
      "cell_type": "code",
      "source": [
        "dataframe=data['age'].fillna(data['age'].mode()[0])\n",
        "data['age']=dataframe\n",
        "data.isnull().sum()"
      ],
      "metadata": {
        "id": "KOPZ8Y0yq0zL",
        "colab": {
          "base_uri": "https://localhost:8080/"
        },
        "outputId": "9e17a4c1-a2f7-4145-f8ca-66385024126a"
      },
      "execution_count": null,
      "outputs": [
        {
          "output_type": "execute_result",
          "data": {
            "text/plain": [
              "erythema                                    0\n",
              "scaling                                     0\n",
              "definite_borders                            0\n",
              "itching                                     0\n",
              "koebner_phenomenon                          0\n",
              "polygonal_papules                           0\n",
              "follicular_papules                          0\n",
              "oral_mucosal_involvement                    0\n",
              "knee_and_elbow_involvement                  0\n",
              "scalp_involvement                           0\n",
              "family_history                              0\n",
              "melanin_incontinence                        0\n",
              "eosinophils_in_the_infiltrate               0\n",
              "pnl_infiltrate                              0\n",
              "fibrosis_of_the_papillary_dermis            0\n",
              "exocytosis                                  0\n",
              "acanthosis                                  0\n",
              "hyperkeratosis                              0\n",
              "parakeratosis                               0\n",
              "clubbing_of_the_rete_ridges                 0\n",
              "elongation_of_the_rete_ridges               0\n",
              "thinning_of_the_suprapapillary_epidermis    0\n",
              "spongiform_pustule                          0\n",
              "munro_microabcess                           0\n",
              "focal_hypergranulosis                       0\n",
              "disappearance_of_the_granular_layer         0\n",
              "vacuolisation_and_damage_of_basal_layer     0\n",
              "spongiosis                                  0\n",
              "saw-tooth_appearance_of_retes               0\n",
              "follicular_horn_plug                        0\n",
              "perifollicular_parakeratosis                0\n",
              "inflammatory_monoluclear_inflitrate         0\n",
              "band-like_infiltrate                        0\n",
              "age                                         0\n",
              "class                                       0\n",
              "dtype: int64"
            ]
          },
          "metadata": {},
          "execution_count": 250
        }
      ]
    },
    {
      "cell_type": "markdown",
      "source": [
        "Extracting independent and dependent features ..."
      ],
      "metadata": {
        "id": "4ReknLEjQ1wU"
      }
    },
    {
      "cell_type": "code",
      "source": [
        "X = data.iloc[:, :-1].values\n",
        "print(X.shape)\n",
        "y = data.iloc[:,-1].values\n",
        "print(y.shape)"
      ],
      "metadata": {
        "id": "s1xxY4LjrJxp",
        "colab": {
          "base_uri": "https://localhost:8080/"
        },
        "outputId": "c9bc142b-a697-40ee-e00d-f6a5cbe6a84a"
      },
      "execution_count": null,
      "outputs": [
        {
          "output_type": "stream",
          "name": "stdout",
          "text": [
            "(366, 34)\n",
            "(366,)\n"
          ]
        }
      ]
    },
    {
      "cell_type": "markdown",
      "source": [
        "Now scaling the dataset using standard scalar"
      ],
      "metadata": {
        "id": "Xb_wIP5mRIrK"
      }
    },
    {
      "cell_type": "code",
      "source": [
        "from sklearn.preprocessing import StandardScaler\n",
        "X_std = StandardScaler().fit_transform(X)"
      ],
      "metadata": {
        "id": "cddHprZj-Jtu"
      },
      "execution_count": null,
      "outputs": []
    },
    {
      "cell_type": "markdown",
      "source": [
        "###PCA"
      ],
      "metadata": {
        "id": "9XOWXW3CDREi"
      }
    },
    {
      "cell_type": "code",
      "source": [
        "X_covariance_matrix = np.cov(X_std.T)"
      ],
      "metadata": {
        "id": "ntPnfDBIsM4C"
      },
      "execution_count": null,
      "outputs": []
    },
    {
      "cell_type": "code",
      "source": [
        "eig_vals, eig_vecs = np.linalg.eig(X_covariance_matrix)\n",
        "print(eig_vals.shape)\n",
        "print(eig_vecs.shape)"
      ],
      "metadata": {
        "id": "0bFAbehAsVhD",
        "colab": {
          "base_uri": "https://localhost:8080/"
        },
        "outputId": "edca64f0-5faf-4240-8271-1a5a1731d83d"
      },
      "execution_count": null,
      "outputs": [
        {
          "output_type": "stream",
          "name": "stdout",
          "text": [
            "(34,)\n",
            "(34, 34)\n"
          ]
        }
      ]
    },
    {
      "cell_type": "code",
      "source": [
        "explained_variances = []\n",
        "for i in range(len(eig_vals)):\n",
        "    explained_variances.append(eig_vals[i] / np.sum(eig_vals))\n",
        " \n",
        "print(np.sum(explained_variances), \"\\n\", explained_variances)"
      ],
      "metadata": {
        "id": "fJP6cKcu9XQv",
        "colab": {
          "base_uri": "https://localhost:8080/"
        },
        "outputId": "e0042274-949b-4b33-9341-f69a24580d7c"
      },
      "execution_count": null,
      "outputs": [
        {
          "output_type": "stream",
          "name": "stdout",
          "text": [
            "1.0 \n",
            " [0.2717562428092672, 0.16118596194046567, 0.09148271472794768, 0.06564819677865982, 0.03942568557875005, 0.035532772921692705, 0.030244458594108622, 0.028263025247594154, 0.025657779266743605, 0.02488780596650264, 0.02365783700923892, 0.021360843455620445, 0.02047448158166032, 0.019537580229434803, 0.01669584543355772, 0.01691251804449212, 0.0146366005888736, 0.01244530106259846, 0.010958284708202582, 0.00974541857979119, 0.00857180115068698, 0.008236719552969967, 0.007297519120359018, 0.006618182771891564, 0.00553997052440745, 0.004021958382641048, 0.0013001896132921792, 0.0016393663073424175, 0.0018266307105877088, 0.0025661765967474933, 0.0032225752353599695, 0.0029656788030315655, 0.002812522592986335, 0.002871354112494001]\n"
          ]
        }
      ]
    },
    {
      "cell_type": "code",
      "source": [
        "tot = sum(eig_vals)\n",
        "var_exp = [(i / tot)*100 for i in sorted(eig_vals, reverse=True)]\n",
        "cum_var_exp = np.cumsum(var_exp)\n",
        "print(\"Cumulative variance captured as we travel each component \\n\", cum_var_exp)"
      ],
      "metadata": {
        "id": "ELpgu7og-UGI",
        "colab": {
          "base_uri": "https://localhost:8080/"
        },
        "outputId": "da19a454-4275-4810-8d9e-ddf0deca9308"
      },
      "execution_count": null,
      "outputs": [
        {
          "output_type": "stream",
          "name": "stdout",
          "text": [
            "Cumulative variance captured as we travel each component \n",
            " [ 27.17562428  43.29422047  52.44249195  59.00731163  62.94988018\n",
            "  66.50315748  69.52760334  72.35390586  74.91968379  77.40846438\n",
            "  79.77424808  81.91033243  83.95778059  85.91153861  87.60279042\n",
            "  89.27237496  90.73603502  91.98056512  93.07639359  94.05093545\n",
            "  94.90811557  95.73178752  96.46153943  97.12335771  97.67735476\n",
            "  98.0795506   98.40180813  98.69837601  98.98551142  99.26676368\n",
            "  99.52338134  99.70604441  99.86998104 100.        ]\n"
          ]
        }
      ]
    },
    {
      "cell_type": "code",
      "source": [
        "# Make a list of (eigenvalue, eigenvector) tuples\n",
        "eig_pairs = [(np.abs(eig_vals[i]), eig_vecs[:,i]) for i in range(len(eig_vals))]\n",
        "\n",
        "# Sort the (eigenvalue, eigenvector) tuples from high to low\n",
        "eig_pairs.sort(key=lambda x: x[0], reverse=True)"
      ],
      "metadata": {
        "id": "0P5MTubisgAp"
      },
      "execution_count": null,
      "outputs": []
    },
    {
      "cell_type": "code",
      "source": [
        "matrix_w = np.hstack((list)(eig_pairs[i][1].reshape(34,1)) for i in range(18)) "
      ],
      "metadata": {
        "id": "-tbcHZJAyHBw",
        "colab": {
          "base_uri": "https://localhost:8080/"
        },
        "outputId": "b8ba0702-46f7-4cd6-86b9-b318a3b6d6a1"
      },
      "execution_count": null,
      "outputs": [
        {
          "output_type": "stream",
          "name": "stderr",
          "text": [
            "/usr/local/lib/python3.7/dist-packages/ipykernel_launcher.py:1: FutureWarning: arrays to stack must be passed as a \"sequence\" type such as list or tuple. Support for non-sequence iterables such as generators is deprecated as of NumPy 1.16 and will raise an error in the future.\n",
            "  \"\"\"Entry point for launching an IPython kernel.\n"
          ]
        }
      ]
    },
    {
      "cell_type": "code",
      "source": [
        "X = X_std.dot(matrix_w)\n",
        "X.shape"
      ],
      "metadata": {
        "id": "cwsXeGZxzIF0",
        "colab": {
          "base_uri": "https://localhost:8080/"
        },
        "outputId": "8a827a95-892d-4497-ddb5-1b65403c4b2a"
      },
      "execution_count": null,
      "outputs": [
        {
          "output_type": "execute_result",
          "data": {
            "text/plain": [
              "(366, 18)"
            ]
          },
          "metadata": {},
          "execution_count": 284
        }
      ]
    },
    {
      "cell_type": "markdown",
      "source": [
        "###Accuracy of Models after PCA"
      ],
      "metadata": {
        "id": "8-x3vgyMDUvD"
      }
    },
    {
      "cell_type": "code",
      "source": [
        "X_pre_train, X_pre_test, y_pre_train, y_pre_test = train_test_split(X_std, y, test_size=0.3, random_state=10) # 70% training and 30% test"
      ],
      "metadata": {
        "id": "HnQ-SU-PT_wA"
      },
      "execution_count": null,
      "outputs": []
    },
    {
      "cell_type": "code",
      "source": [
        "X_train, X_test, y_train, y_test = train_test_split(X, y, test_size=0.3, random_state=10) # 70% training and 30% test"
      ],
      "metadata": {
        "id": "8BDCtJWJC13u"
      },
      "execution_count": null,
      "outputs": []
    },
    {
      "cell_type": "markdown",
      "source": [
        "####Decision Tree Classifier"
      ],
      "metadata": {
        "id": "EY1JzgZkUQMO"
      }
    },
    {
      "cell_type": "markdown",
      "source": [
        "###Accuracy of Models after PCA "
      ],
      "metadata": {
        "id": "rc1wPb456dXF"
      }
    },
    {
      "cell_type": "code",
      "source": [
        "from sklearn.tree import DecisionTreeClassifier"
      ],
      "metadata": {
        "id": "6kHf-Y8-6ud0"
      },
      "execution_count": null,
      "outputs": []
    },
    {
      "cell_type": "markdown",
      "source": [
        "#### Decision tree before PCA"
      ],
      "metadata": {
        "id": "A_I4pnEAUm6Z"
      }
    },
    {
      "cell_type": "code",
      "source": [
        "model = DecisionTreeClassifier()\n",
        "model = model.fit(X_pre_train,y_pre_train)\n",
        "y_pre_pred = model.predict(X_pre_test)"
      ],
      "metadata": {
        "id": "l5BeE-S7UjT1"
      },
      "execution_count": null,
      "outputs": []
    },
    {
      "cell_type": "markdown",
      "source": [
        "#### Decision tree after PCA"
      ],
      "metadata": {
        "id": "oSqqL8s-U_aE"
      }
    },
    {
      "cell_type": "code",
      "source": [
        "model = DecisionTreeClassifier()\n",
        "model = model.fit(X_train,y_train)\n",
        "y_pred = model.predict(X_test)"
      ],
      "metadata": {
        "id": "xQ3oLnvB7b5U"
      },
      "execution_count": null,
      "outputs": []
    },
    {
      "cell_type": "code",
      "source": [
        "print(\"Accuracy before PCA:\",metrics.accuracy_score(y_pre_test, y_pre_pred))\n",
        "print(\"Accuracy after PCA:\",metrics.accuracy_score(y_test, y_pred))"
      ],
      "metadata": {
        "id": "wayFPTzB7jpU",
        "colab": {
          "base_uri": "https://localhost:8080/"
        },
        "outputId": "5b4f5dbb-7cea-44fb-c2a3-09da0701f3e0"
      },
      "execution_count": null,
      "outputs": [
        {
          "output_type": "stream",
          "name": "stdout",
          "text": [
            "Accuracy before PCA: 0.9363636363636364\n",
            "Accuracy after PCA: 0.9545454545454546\n"
          ]
        }
      ]
    },
    {
      "cell_type": "code",
      "source": [
        "print(\"Decision tree before PCA\")\n",
        "print()\n",
        "print(metrics.classification_report(y_pre_test,y_pre_pred))\n",
        "print(\"Decision tree after PCA\")\n",
        "print()\n",
        "print(metrics.classification_report(y_test,y_pred))"
      ],
      "metadata": {
        "colab": {
          "base_uri": "https://localhost:8080/"
        },
        "id": "tMNf3htILPsQ",
        "outputId": "12801064-041b-40a2-d0a4-7a5723ebf3d8"
      },
      "execution_count": null,
      "outputs": [
        {
          "output_type": "stream",
          "name": "stdout",
          "text": [
            "Decision tree before PCA\n",
            "\n",
            "              precision    recall  f1-score   support\n",
            "\n",
            "           1       1.00      0.92      0.96        38\n",
            "           2       0.81      1.00      0.89        17\n",
            "           3       1.00      1.00      1.00        19\n",
            "           4       0.75      0.82      0.78        11\n",
            "           5       1.00      1.00      1.00        18\n",
            "           6       1.00      0.71      0.83         7\n",
            "\n",
            "    accuracy                           0.94       110\n",
            "   macro avg       0.93      0.91      0.91       110\n",
            "weighted avg       0.95      0.94      0.94       110\n",
            "\n",
            "Decision tree after PCA\n",
            "\n",
            "              precision    recall  f1-score   support\n",
            "\n",
            "           1       0.97      0.97      0.97        38\n",
            "           2       0.89      0.94      0.91        17\n",
            "           3       1.00      1.00      1.00        19\n",
            "           4       0.91      0.91      0.91        11\n",
            "           5       0.95      1.00      0.97        18\n",
            "           6       1.00      0.71      0.83         7\n",
            "\n",
            "    accuracy                           0.95       110\n",
            "   macro avg       0.95      0.92      0.93       110\n",
            "weighted avg       0.96      0.95      0.95       110\n",
            "\n"
          ]
        }
      ]
    },
    {
      "cell_type": "markdown",
      "source": [
        "####Logistic Regression"
      ],
      "metadata": {
        "id": "2R9bLPmp8aIq"
      }
    },
    {
      "cell_type": "markdown",
      "source": [
        "####Logistic Regression before PCA\n"
      ],
      "metadata": {
        "id": "yLTr409_XIIk"
      }
    },
    {
      "cell_type": "code",
      "source": [
        "from sklearn.linear_model import LogisticRegression\n",
        "logreg = LogisticRegression()\n",
        "logreg.fit(X_pre_train,y_pre_train)\n",
        "y_pre_pred=logreg.predict(X_pre_test)"
      ],
      "metadata": {
        "id": "G3s1AswTW9Q6"
      },
      "execution_count": null,
      "outputs": []
    },
    {
      "cell_type": "markdown",
      "source": [
        "####Logistic Regression after PCA\n"
      ],
      "metadata": {
        "id": "EJx8uZOMXONF"
      }
    },
    {
      "cell_type": "code",
      "source": [
        "from sklearn.linear_model import LogisticRegression\n",
        "logreg = LogisticRegression()\n",
        "logreg.fit(X_train,y_train)\n",
        "y_pred=logreg.predict(X_test)"
      ],
      "metadata": {
        "id": "Gq3u2iPQ8ffQ"
      },
      "execution_count": null,
      "outputs": []
    },
    {
      "cell_type": "code",
      "source": [
        "print(\"Accuracy before PCA:\",metrics.accuracy_score(y_pre_test, y_pre_pred))\n",
        "print(\"Accuracy after PCA:\",metrics.accuracy_score(y_test, y_pred))"
      ],
      "metadata": {
        "id": "F_Vs9YPL9AcA",
        "colab": {
          "base_uri": "https://localhost:8080/"
        },
        "outputId": "229f38a9-e5b7-4f09-bde9-341a8981441a"
      },
      "execution_count": null,
      "outputs": [
        {
          "output_type": "stream",
          "name": "stdout",
          "text": [
            "Accuracy before PCA: 0.990909090909091\n",
            "Accuracy after PCA: 0.9818181818181818\n"
          ]
        }
      ]
    },
    {
      "cell_type": "code",
      "source": [
        "print(\"Logistic Regression before PCA\")\n",
        "print()\n",
        "print(metrics.classification_report(y_pre_test,y_pre_pred))\n",
        "print(\"Logistic Regression after PCA\")\n",
        "print()\n",
        "print(metrics.classification_report(y_test,y_pred))"
      ],
      "metadata": {
        "colab": {
          "base_uri": "https://localhost:8080/"
        },
        "id": "op_4eXBYLQg1",
        "outputId": "e75bc05a-b87b-4765-c6d0-c2206173816a"
      },
      "execution_count": null,
      "outputs": [
        {
          "output_type": "stream",
          "name": "stdout",
          "text": [
            "Logistic Regression before PCA\n",
            "\n",
            "              precision    recall  f1-score   support\n",
            "\n",
            "           1       1.00      1.00      1.00        38\n",
            "           2       1.00      0.94      0.97        17\n",
            "           3       1.00      1.00      1.00        19\n",
            "           4       0.92      1.00      0.96        11\n",
            "           5       1.00      1.00      1.00        18\n",
            "           6       1.00      1.00      1.00         7\n",
            "\n",
            "    accuracy                           0.99       110\n",
            "   macro avg       0.99      0.99      0.99       110\n",
            "weighted avg       0.99      0.99      0.99       110\n",
            "\n",
            "Logistic Regression after PCA\n",
            "\n",
            "              precision    recall  f1-score   support\n",
            "\n",
            "           1       1.00      1.00      1.00        38\n",
            "           2       0.94      0.94      0.94        17\n",
            "           3       1.00      1.00      1.00        19\n",
            "           4       0.91      0.91      0.91        11\n",
            "           5       1.00      1.00      1.00        18\n",
            "           6       1.00      1.00      1.00         7\n",
            "\n",
            "    accuracy                           0.98       110\n",
            "   macro avg       0.98      0.98      0.98       110\n",
            "weighted avg       0.98      0.98      0.98       110\n",
            "\n"
          ]
        }
      ]
    },
    {
      "cell_type": "markdown",
      "source": [
        "####Support Vector Machine"
      ],
      "metadata": {
        "id": "pq9FJbBr-nr_"
      }
    },
    {
      "cell_type": "markdown",
      "source": [
        "#### SVM before PCA"
      ],
      "metadata": {
        "id": "XpEbmkfaYY_w"
      }
    },
    {
      "cell_type": "code",
      "source": [
        "from sklearn import svm\n",
        "model = svm.SVC(kernel='linear') # Linear Kernel\n",
        "model.fit(X_pre_train, y_pre_train)\n",
        "#Predict the response for test dataset\n",
        "y_pre_pred = model.predict(X_pre_test)"
      ],
      "metadata": {
        "id": "i1ZSVRn4Xkzz"
      },
      "execution_count": null,
      "outputs": []
    },
    {
      "cell_type": "markdown",
      "source": [
        "####SVM after PCA"
      ],
      "metadata": {
        "id": "45uvHvJ_YeYH"
      }
    },
    {
      "cell_type": "code",
      "source": [
        "from sklearn import svm\n",
        "model= svm.SVC(kernel='linear') # Linear Kernel\n",
        "model.fit(X_train, y_train)\n",
        "#Predict the response for test dataset\n",
        "y_pred = model.predict(X_test)"
      ],
      "metadata": {
        "id": "swRE7Ufo-qus"
      },
      "execution_count": null,
      "outputs": []
    },
    {
      "cell_type": "code",
      "source": [
        "print(\"Accuracy before PCA:\",metrics.accuracy_score(y_pre_test, y_pre_pred))\n",
        "print(\"Accuracy after PCA:\",metrics.accuracy_score(y_test, y_pred))"
      ],
      "metadata": {
        "id": "b_2QVyFV--Uo",
        "colab": {
          "base_uri": "https://localhost:8080/"
        },
        "outputId": "518f3d1a-cb3f-4dea-df76-f194f2e39c06"
      },
      "execution_count": null,
      "outputs": [
        {
          "output_type": "stream",
          "name": "stdout",
          "text": [
            "Accuracy before PCA: 0.990909090909091\n",
            "Accuracy after PCA: 0.9818181818181818\n"
          ]
        }
      ]
    },
    {
      "cell_type": "code",
      "source": [
        "print(\"Support vector machine before PCA\")\n",
        "print()\n",
        "print(metrics.classification_report(y_pre_test,y_pre_pred))\n",
        "print(\"Support vector machine PCA\")\n",
        "print()\n",
        "print(metrics.classification_report(y_test,y_pred))"
      ],
      "metadata": {
        "colab": {
          "base_uri": "https://localhost:8080/"
        },
        "id": "1gDhwZY2LRZJ",
        "outputId": "8e8e6302-fa46-4b15-a480-fea70a1e4bfe"
      },
      "execution_count": null,
      "outputs": [
        {
          "output_type": "stream",
          "name": "stdout",
          "text": [
            "Support vector machine before PCA\n",
            "\n",
            "              precision    recall  f1-score   support\n",
            "\n",
            "           1       1.00      1.00      1.00        38\n",
            "           2       1.00      0.94      0.97        17\n",
            "           3       1.00      1.00      1.00        19\n",
            "           4       0.92      1.00      0.96        11\n",
            "           5       1.00      1.00      1.00        18\n",
            "           6       1.00      1.00      1.00         7\n",
            "\n",
            "    accuracy                           0.99       110\n",
            "   macro avg       0.99      0.99      0.99       110\n",
            "weighted avg       0.99      0.99      0.99       110\n",
            "\n",
            "Support vector machine PCA\n",
            "\n",
            "              precision    recall  f1-score   support\n",
            "\n",
            "           1       1.00      1.00      1.00        38\n",
            "           2       0.94      0.94      0.94        17\n",
            "           3       1.00      1.00      1.00        19\n",
            "           4       0.91      0.91      0.91        11\n",
            "           5       1.00      1.00      1.00        18\n",
            "           6       1.00      1.00      1.00         7\n",
            "\n",
            "    accuracy                           0.98       110\n",
            "   macro avg       0.98      0.98      0.98       110\n",
            "weighted avg       0.98      0.98      0.98       110\n",
            "\n"
          ]
        }
      ]
    },
    {
      "cell_type": "markdown",
      "source": [
        "####Random Forest"
      ],
      "metadata": {
        "id": "zsGaO1Wv_bCx"
      }
    },
    {
      "cell_type": "markdown",
      "source": [
        "#### Random Forest before PCA"
      ],
      "metadata": {
        "id": "qz0LhkBdYiOj"
      }
    },
    {
      "cell_type": "code",
      "source": [
        "from sklearn.ensemble import RandomForestClassifier\n",
        "#Create a Gaussian Classifier\n",
        "model=RandomForestClassifier(n_estimators=100)\n",
        "model.fit(X_pre_train,y_pre_train)\n",
        "y_pre_pred=model.predict(X_pre_test)"
      ],
      "metadata": {
        "id": "TvwykCzJYDw4"
      },
      "execution_count": null,
      "outputs": []
    },
    {
      "cell_type": "markdown",
      "source": [
        "####Random forest after PCA"
      ],
      "metadata": {
        "id": "VcCCO9CpYnO2"
      }
    },
    {
      "cell_type": "code",
      "source": [
        "\n",
        "from sklearn.ensemble import RandomForestClassifier\n",
        "#Create a Gaussian Classifier\n",
        "model=RandomForestClassifier(n_estimators=100)\n",
        "model.fit(X_train,y_train)\n",
        "y_pred=model.predict(X_test)"
      ],
      "metadata": {
        "id": "KrGIBy5I_ZpL"
      },
      "execution_count": null,
      "outputs": []
    },
    {
      "cell_type": "code",
      "source": [
        "print(\"Accuracy before PCA:\",metrics.accuracy_score(y_pre_test, y_pre_pred))\n",
        "print(\"Accuracy after PCA:\",metrics.accuracy_score(y_test, y_pred))"
      ],
      "metadata": {
        "id": "rtaDD_fm_yxy",
        "colab": {
          "base_uri": "https://localhost:8080/"
        },
        "outputId": "7be47b6a-4e91-4bdf-8133-079d13d10cd1"
      },
      "execution_count": null,
      "outputs": [
        {
          "output_type": "stream",
          "name": "stdout",
          "text": [
            "Accuracy before PCA: 0.9818181818181818\n",
            "Accuracy after PCA: 0.9818181818181818\n"
          ]
        }
      ]
    },
    {
      "cell_type": "code",
      "source": [
        "print(\"Random forest before PCA\")\n",
        "print()\n",
        "print(metrics.classification_report(y_pre_test,y_pre_pred))\n",
        "print(\"Random forest after PCA\")\n",
        "print()\n",
        "print(metrics.classification_report(y_test,y_pred))"
      ],
      "metadata": {
        "colab": {
          "base_uri": "https://localhost:8080/"
        },
        "id": "bGIR6DGkLTBV",
        "outputId": "8ed303cd-0a2c-4595-87d0-8c603eea13f8"
      },
      "execution_count": null,
      "outputs": [
        {
          "output_type": "stream",
          "name": "stdout",
          "text": [
            "Random forest before PCA\n",
            "\n",
            "              precision    recall  f1-score   support\n",
            "\n",
            "           1       1.00      1.00      1.00        38\n",
            "           2       0.94      0.94      0.94        17\n",
            "           3       1.00      1.00      1.00        19\n",
            "           4       0.91      0.91      0.91        11\n",
            "           5       1.00      1.00      1.00        18\n",
            "           6       1.00      1.00      1.00         7\n",
            "\n",
            "    accuracy                           0.98       110\n",
            "   macro avg       0.98      0.98      0.98       110\n",
            "weighted avg       0.98      0.98      0.98       110\n",
            "\n",
            "Random forest after PCA\n",
            "\n",
            "              precision    recall  f1-score   support\n",
            "\n",
            "           1       1.00      1.00      1.00        38\n",
            "           2       0.94      0.94      0.94        17\n",
            "           3       1.00      1.00      1.00        19\n",
            "           4       0.91      0.91      0.91        11\n",
            "           5       1.00      1.00      1.00        18\n",
            "           6       1.00      1.00      1.00         7\n",
            "\n",
            "    accuracy                           0.98       110\n",
            "   macro avg       0.98      0.98      0.98       110\n",
            "weighted avg       0.98      0.98      0.98       110\n",
            "\n"
          ]
        }
      ]
    }
  ]
}